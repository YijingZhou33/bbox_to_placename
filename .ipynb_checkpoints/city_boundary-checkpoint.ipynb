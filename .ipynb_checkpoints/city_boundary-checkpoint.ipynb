{
 "cells": [
  {
   "cell_type": "code",
   "execution_count": null,
   "metadata": {},
   "outputs": [],
   "source": [
    "import pandas as pd\n",
    "import os\n",
    "import geopandas as gpd\n",
    "import json\n",
    "from itertools import chain\n",
    "import string\n",
    "import folium"
   ]
  },
  {
   "cell_type": "code",
   "execution_count": null,
   "metadata": {},
   "outputs": [],
   "source": [
    "state = 'Iowa'\n",
    "###### Rawdata is Shapefile ######\n",
    "citydata = 'City'\n",
    "# countydata = 'IL_BNDY_County_Py'\n",
    "\n",
    "###### Rawdata is GeoJSON ######\n",
    "# citydata = 'City'\n",
    "# countydata = 'ODOT_County_Boundaries'\n",
    "\n",
    "output = os.path.join('geojson', state, state + '_City_boundaries.json')"
   ]
  },
  {
   "cell_type": "code",
   "execution_count": null,
   "metadata": {},
   "outputs": [],
   "source": [
    "###### Rawdata is Shapefile ######\n",
    "def shp_to_gdf(rawdata):\n",
    "    path = os.path.join('geojson', state, rawdata)\n",
    "    shp = gpd.read_file(path, driver = 'shapefile').to_crs('EPSG:4326')\n",
    "    return shp\n",
    "\n",
    "# **************** uncomment **********************\n",
    "gdf_city = shp_to_gdf(citydata)\n",
    "# gdf_county = shp_to_gdf(countydata)\n",
    "# *************************************************\n",
    "\n",
    "###### Rawdata is GeoJSON ######\n",
    "def geojson_to_gdf(rawdata):\n",
    "    path = os.path.join('geojson', state, rawdata + '.geojson')\n",
    "    geojson = gpd.read_file(path).to_crs('EPSG:4326')\n",
    "    return geojson\n",
    "\n",
    "# **************** uncomment **********************\n",
    "# gdf_city = geojson_to_gdf(citydata)\n",
    "# gdf_county = geojson_to_gdf(countydata)\n",
    "# *************************************************"
   ]
  },
  {
   "cell_type": "code",
   "execution_count": null,
   "metadata": {
    "scrolled": true
   },
   "outputs": [],
   "source": [
    "gdf_city"
   ]
  },
  {
   "cell_type": "code",
   "execution_count": null,
   "metadata": {},
   "outputs": [],
   "source": [
    "# gdf_city = gdf_city[gdf_city['MUN_TYPE'] == 'City']\n",
    "gdf_merged = gdf_city.rename(columns = {'CITY_NAME': 'City', 'COUNTY_NAM': 'County'})[['City', 'County', 'geometry']].reset_index(drop = True)\n",
    "gdf_merged['City'] = gdf_merged['City'].apply(lambda row: string.capwords(str(row)))\n",
    "gdf_merged['County'] = gdf_merged['County'].apply(lambda row: string.capwords(str(row)) + ' County')\n"
   ]
  },
  {
   "cell_type": "code",
   "execution_count": null,
   "metadata": {
    "scrolled": true
   },
   "outputs": [],
   "source": [
    "gdf_county.head()"
   ]
  },
  {
   "cell_type": "code",
   "execution_count": null,
   "metadata": {},
   "outputs": [],
   "source": [
    "cityname = 'NAME'\n",
    "countyname = 'COUNTY_SEA'\n",
    "classname = 'SUBTYPE'\n",
    "citytype = 'C'\n",
    "identifier = 'FULLNAME'\n",
    "\n",
    "# gdf_city = gdf_city.rename(columns = {'NAME': cityname, 'TYPE': classname, 'FIPSCODE': identifier})\n",
    "# gdf_county = gdf_county.rename(columns = {'COUNTY': countyname})"
   ]
  },
  {
   "cell_type": "code",
   "execution_count": null,
   "metadata": {},
   "outputs": [],
   "source": [
    "cityname = 'CVT_NAME'\n",
    "countyname = 'COUNTY_SEA'\n",
    "identifier = 'LOCALFIPS'\n",
    "\n",
    "# gdf_city = gdf_city.rename(columns = {'NAME': cityname})\n",
    "# gdf_county = gdf_county.rename(columns = {'NAME': countyname})"
   ]
  },
  {
   "cell_type": "code",
   "execution_count": null,
   "metadata": {},
   "outputs": [],
   "source": [
    "###### Dataframe includes 'City Name', 'Type' ######\n",
    "\n",
    "# **************** uncomment **********************    \n",
    "def select_city_features(gdf):\n",
    "    gdf = gdf[gdf[classname] == citytype].reset_index(drop=True)\n",
    "    return gdf\n",
    "# *************************************************\n",
    "\n",
    "gdf_city = select_city_features(gdf_city)"
   ]
  },
  {
   "cell_type": "code",
   "execution_count": null,
   "metadata": {},
   "outputs": [],
   "source": [
    "gdf_city"
   ]
  },
  {
   "cell_type": "code",
   "execution_count": null,
   "metadata": {},
   "outputs": [],
   "source": [
    "def group_by_city(identifier, cityname, countyname):\n",
    "    gdf_sjoin = gpd.sjoin(gdf_city, gdf_county, op = 'intersects', how='left')[[identifier, cityname, countyname]].astype(str)\n",
    "    # group records by city name\n",
    "    df_group = gdf_sjoin.groupby(cityname)[countyname].apply(list).reset_index(\n",
    "                name = countyname)\n",
    "    gdf_merged = gdf_city.merge(df_group, on = cityname).rename(\n",
    "        columns = {cityname: 'City', countyname: 'County'})\n",
    "    gdf_merged['City'] = gdf_merged['City'].apply(lambda row: string.capwords(str(row)))\n",
    "    gdf_merged['County'] = gdf_merged['County'].apply(lambda row: [string.capwords(str(elem)) + ' County' for elem in row])\n",
    "    gdf_merged['County'] = gdf_merged['County'].apply(lambda row: ', '.join(list(set(row))))\n",
    "    return gdf_merged[['City', 'County', 'geometry']]\n",
    "\n",
    "gdf_merged = group_by_city(identifier, cityname, countyname)"
   ]
  },
  {
   "cell_type": "code",
   "execution_count": null,
   "metadata": {},
   "outputs": [],
   "source": [
    "def conversion(inputfile):\n",
    "    ## convert file to json \n",
    "    inputfile = json.loads(inputfile.to_json())\n",
    "    ## display features properties as dataframe\n",
    "    df = pd.json_normalize(inputfile['features'])\n",
    "    return df\n",
    "\n",
    "df_merged = conversion(gdf_merged)"
   ]
  },
  {
   "cell_type": "code",
   "execution_count": null,
   "metadata": {},
   "outputs": [],
   "source": [
    "def round_coordinates(l, precision):\n",
    "    def round_element(e):\n",
    "        if isinstance(e, list):\n",
    "            return round_coordinates(e, precision)\n",
    "        else:\n",
    "            return round(e, precision)\n",
    "    return [round_element(e) for e in l]\n",
    "\n",
    "df_merged['geometry.coordinates'] = round_coordinates(df_merged['geometry.coordinates'], 4)\n",
    "df_merged.head()"
   ]
  },
  {
   "cell_type": "code",
   "execution_count": null,
   "metadata": {},
   "outputs": [],
   "source": [
    "def create_geojson_features(df):\n",
    "    print('> Creating GeoJSON features...')\n",
    "    features = []\n",
    "    geojson = {\n",
    "        'type': 'FeatureCollection',\n",
    "        'features': features\n",
    "    }\n",
    "        \n",
    "    for _, row in df.iterrows():\n",
    "        if type(row['geometry.coordinates'][0][0][0]) is float:\n",
    "            geometry_type = 'Polygon'\n",
    "        else:\n",
    "            geometry_type = 'MultiPolygon'\n",
    "        feature = {\n",
    "            'type': 'Feature',\n",
    "            'geometry': {\n",
    "                'type': geometry_type, \n",
    "                'coordinates': row['geometry.coordinates']\n",
    "            },\n",
    "            'properties': {\n",
    "                'City': row['properties.City'], \n",
    "                'County': row['properties.County'], \n",
    "                'State': state\n",
    "            }\n",
    "        }\n",
    "\n",
    "        features.append(feature)\n",
    "    return geojson\n",
    "\n",
    "data_geojson = create_geojson_features(df_merged)"
   ]
  },
  {
   "cell_type": "code",
   "execution_count": null,
   "metadata": {},
   "outputs": [],
   "source": [
    "with open(output, 'w') as txtfile:\n",
    "    json.dump(data_geojson, txtfile)\n",
    "print('> Creating GeoJSON file...')"
   ]
  },
  {
   "cell_type": "code",
   "execution_count": null,
   "metadata": {},
   "outputs": [],
   "source": [
    "print('> Making map...')\n",
    "## change the location here to zoom to the center\n",
    "m = folium.Map(location = [42.3756, -93.6397], control_scale = True, zoom_start = 5)\n",
    "\n",
    "## check if the indexmap geojson files can be rendered properly\n",
    "\n",
    "folium.GeoJson(data_geojson, \n",
    "               tooltip = folium.GeoJsonTooltip(fields=('City', 'County', 'State'),\n",
    "               aliases=('City', 'County', 'State')),\n",
    "               show = True).add_to(m)\n",
    "m"
   ]
  },
  {
   "cell_type": "code",
   "execution_count": null,
   "metadata": {},
   "outputs": [],
   "source": []
  }
 ],
 "metadata": {
  "kernelspec": {
   "display_name": "Python 3",
   "language": "python",
   "name": "python3"
  },
  "language_info": {
   "codemirror_mode": {
    "name": "ipython",
    "version": 3
   },
   "file_extension": ".py",
   "mimetype": "text/x-python",
   "name": "python",
   "nbconvert_exporter": "python",
   "pygments_lexer": "ipython3",
   "version": "3.7.6"
  }
 },
 "nbformat": 4,
 "nbformat_minor": 4
}
