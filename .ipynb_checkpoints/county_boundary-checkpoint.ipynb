{
 "cells": [
  {
   "cell_type": "code",
   "execution_count": null,
   "metadata": {},
   "outputs": [],
   "source": [
    "import pandas as pd\n",
    "import os\n",
    "import geopandas as gpd\n",
    "import json\n",
    "from itertools import chain\n",
    "import string\n",
    "import folium"
   ]
  },
  {
   "cell_type": "code",
   "execution_count": null,
   "metadata": {},
   "outputs": [],
   "source": [
    "state = 'Delaware'\n",
    "###### Rawdata is Shapefile ######\n",
    "# countydata = 'IL_BNDY_County_Py'\n",
    "\n",
    "###### Rawdata is GeoJSON ######\n",
    "countydata = 'Delaware_Boundaries_County_State' \n",
    "\n",
    "output = os.path.join('geojson', state, state + '_County_boundaries.json')"
   ]
  },
  {
   "cell_type": "code",
   "execution_count": null,
   "metadata": {},
   "outputs": [],
   "source": [
    "###### Rawdata is Shapefile ######\n",
    "def shp_to_gdf(rawdata):\n",
    "    path = os.path.join('geojson', state, rawdata)\n",
    "    shp = gpd.read_file(path, driver = 'shapefile').to_crs('EPSG:4326')\n",
    "    return shp\n",
    "\n",
    "# **************** uncomment **********************\n",
    "# gdf_county = shp_to_gdf(countydata)\n",
    "# *************************************************\n",
    "\n",
    "###### Rawdata is GeoJSON ######\n",
    "def geojson_to_gdf(rawdata):\n",
    "    path = os.path.join('geojson', state, rawdata + '.geojson')\n",
    "    geojson = gpd.read_file(path).to_crs('EPSG:4326')\n",
    "    return geojson\n",
    "\n",
    "# **************** uncomment **********************\n",
    "gdf_county = geojson_to_gdf(countydata)\n",
    "# *************************************************"
   ]
  },
  {
   "cell_type": "code",
   "execution_count": null,
   "metadata": {},
   "outputs": [],
   "source": [
    "gdf_county.head()"
   ]
  },
  {
   "cell_type": "code",
   "execution_count": null,
   "metadata": {},
   "outputs": [],
   "source": [
    "def rename(df):\n",
    "    ## possible county column names in the dataframe\n",
    "    clist = ['COUNTY', 'NAME', 'COUNTY_NAM', 'COUNTY_NAME', 'CTY_NAME']\n",
    "    \n",
    "    if set(df.columns).intersection(set(clist)):\n",
    "        cname = ''.join(set(df.columns).intersection(set(clist)))\n",
    "    else:\n",
    "        cname = input('Please enter the column storing county names: ').strip()\n",
    "          \n",
    "    df = df[[cname, 'geometry']].rename(columns={cname:'County'})      \n",
    "    ## capitalize the first letter of each word in the county name\n",
    "    df['County'] = df['County'].apply(lambda row: string.capwords(row) + ' County')\n",
    "    \n",
    "    return df\n",
    "\n",
    "gdf_merged = rename(gdf_county)"
   ]
  },
  {
   "cell_type": "code",
   "execution_count": null,
   "metadata": {},
   "outputs": [],
   "source": [
    "def conversion(inputfile):\n",
    "    ## convert file to json \n",
    "    inputfile = json.loads(inputfile.to_json())\n",
    "    ## display features properties as dataframe\n",
    "    df = pd.json_normalize(inputfile['features'])\n",
    "    return df\n",
    "\n",
    "df_merged = conversion(gdf_merged)"
   ]
  },
  {
   "cell_type": "code",
   "execution_count": null,
   "metadata": {},
   "outputs": [],
   "source": [
    "def round_coordinates(l, precision):\n",
    "    def round_element(e):\n",
    "        if isinstance(e, list):\n",
    "            return round_coordinates(e, precision)\n",
    "        else:\n",
    "            return round(e, precision)\n",
    "    return [round_element(e) for e in l]\n",
    "\n",
    "df_merged['geometry.coordinates'] = round_coordinates(df_merged['geometry.coordinates'], 4)\n",
    "df_merged.head()"
   ]
  },
  {
   "cell_type": "code",
   "execution_count": null,
   "metadata": {},
   "outputs": [],
   "source": [
    "def create_geojson_features(df):\n",
    "    print('> Creating GeoJSON features...')\n",
    "    features = []\n",
    "    geojson = {\n",
    "        'type': 'FeatureCollection',\n",
    "        'features': features\n",
    "    }\n",
    "        \n",
    "    for _, row in df.iterrows():\n",
    "        if type(row['geometry.coordinates'][0][0][0]) is float:\n",
    "            geometry_type = 'Polygon'\n",
    "        else:\n",
    "            geometry_type = 'MultiPolygon'\n",
    "        feature = {\n",
    "            'type': 'Feature',\n",
    "            'geometry': {\n",
    "                'type': geometry_type, \n",
    "                'coordinates': row['geometry.coordinates']\n",
    "            },\n",
    "            'properties': {\n",
    "                'County': row['properties.County'], \n",
    "                'State': state\n",
    "            }\n",
    "        }\n",
    "\n",
    "        features.append(feature)\n",
    "    return geojson\n",
    "\n",
    "data_geojson = create_geojson_features(df_merged)"
   ]
  },
  {
   "cell_type": "code",
   "execution_count": null,
   "metadata": {},
   "outputs": [],
   "source": [
    "with open(output, 'w') as txtfile:\n",
    "    json.dump(data_geojson, txtfile)\n",
    "print('> Creating GeoJSON file...')"
   ]
  },
  {
   "cell_type": "code",
   "execution_count": null,
   "metadata": {},
   "outputs": [],
   "source": [
    "print('> Making map...')\n",
    "## change the location here to zoom to the center\n",
    "m = folium.Map(location = [42.3756, -93.6397], control_scale = True, zoom_start = 5)\n",
    "\n",
    "## check if the indexmap geojson files can be rendered properly\n",
    "\n",
    "folium.GeoJson(data_geojson, \n",
    "               tooltip = folium.GeoJsonTooltip(fields=('County', 'State'),\n",
    "               aliases=('County', 'State')),\n",
    "               show = True).add_to(m)\n",
    "m"
   ]
  },
  {
   "cell_type": "code",
   "execution_count": null,
   "metadata": {},
   "outputs": [],
   "source": []
  }
 ],
 "metadata": {
  "kernelspec": {
   "display_name": "Python 3",
   "language": "python",
   "name": "python3"
  },
  "language_info": {
   "codemirror_mode": {
    "name": "ipython",
    "version": 3
   },
   "file_extension": ".py",
   "mimetype": "text/x-python",
   "name": "python",
   "nbconvert_exporter": "python",
   "pygments_lexer": "ipython3",
   "version": "3.7.6"
  }
 },
 "nbformat": 4,
 "nbformat_minor": 4
}
